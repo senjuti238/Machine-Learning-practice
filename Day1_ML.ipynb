{
  "nbformat": 4,
  "nbformat_minor": 0,
  "metadata": {
    "colab": {
      "name": "Day1_ML.ipynb",
      "provenance": [],
      "collapsed_sections": [],
      "authorship_tag": "ABX9TyP17j9e0RJEf/P9NlpBWJmU",
      "include_colab_link": true
    },
    "kernelspec": {
      "name": "python3",
      "display_name": "Python 3"
    },
    "language_info": {
      "name": "python"
    }
  },
  "cells": [
    {
      "cell_type": "markdown",
      "metadata": {
        "id": "view-in-github",
        "colab_type": "text"
      },
      "source": [
        "<a href=\"https://colab.research.google.com/github/senjuti238/Machine-Learning-practice/blob/main/Day1_ML.ipynb\" target=\"_parent\"><img src=\"https://colab.research.google.com/assets/colab-badge.svg\" alt=\"Open In Colab\"/></a>"
      ]
    },
    {
      "cell_type": "markdown",
      "metadata": {
        "id": "lpKoyFRtKzvz"
      },
      "source": [
        "# Numpy"
      ]
    },
    {
      "cell_type": "code",
      "metadata": {
        "colab": {
          "base_uri": "https://localhost:8080/"
        },
        "id": "gERfAIXrK0GK",
        "outputId": "ca3b9fb6-4911-4e88-bbde-4baacac8f7ea"
      },
      "source": [
        "# Is for mathematical operations\n",
        "\n",
        "import numpy as np\n",
        "\n",
        "a = [1,2,3,4,5]\n",
        "arr1 = np.array(a)\n",
        "\n",
        "b = [[1,2,3,4], [5,6,7,8]]\n",
        "arr2 = np.array(b)\n",
        "\n",
        "print(arr1)\n",
        "print(arr2)"
      ],
      "execution_count": null,
      "outputs": [
        {
          "output_type": "stream",
          "text": [
            "[1 2 3 4 5]\n",
            "[[1 2 3 4]\n",
            " [5 6 7 8]]\n"
          ],
          "name": "stdout"
        }
      ]
    },
    {
      "cell_type": "code",
      "metadata": {
        "colab": {
          "base_uri": "https://localhost:8080/"
        },
        "id": "PMEsswKWNwuR",
        "outputId": "7ef87c2d-0bf5-4653-b24e-8a4851d623ac"
      },
      "source": [
        "print(type(a),\n",
        "type(arr1),\n",
        "type(b),\n",
        "type(arr2),)"
      ],
      "execution_count": null,
      "outputs": [
        {
          "output_type": "stream",
          "text": [
            "<class 'list'> <class 'numpy.ndarray'> <class 'list'> <class 'numpy.ndarray'>\n"
          ],
          "name": "stdout"
        }
      ]
    },
    {
      "cell_type": "code",
      "metadata": {
        "colab": {
          "base_uri": "https://localhost:8080/"
        },
        "id": "jr8i_CmBOIHA",
        "outputId": "f7399844-5d13-40b0-fa51-c1e2165728bb"
      },
      "source": [
        "import sys\n",
        "s = range(1000)\n",
        "print(\"Size of each elements in the list in bytes\", sys.getsizeof(s))\n",
        "print(\"Complete list size in bytes\", sys.getsizeof(s) * len(s))"
      ],
      "execution_count": null,
      "outputs": [
        {
          "output_type": "stream",
          "text": [
            "Size of each elements in the list in bytes 48\n",
            "Complete list size in bytes 48000\n"
          ],
          "name": "stdout"
        }
      ]
    },
    {
      "cell_type": "code",
      "metadata": {
        "colab": {
          "base_uri": "https://localhost:8080/"
        },
        "id": "ElchF051OsPF",
        "outputId": "1a17fc11-d0d3-4600-b729-93123f4c9e7b"
      },
      "source": [
        "#We are checking comparison between numpy size and noemal size of \"sys\" package\n",
        "\n",
        "import numpy as np\n",
        "s = np.arange(1000)\n",
        "print(\"Size of each element in the list by bytes\", s.itemsize)\n",
        "print(\"Complete list size in bytes\", s.size * s.itemsize)"
      ],
      "execution_count": null,
      "outputs": [
        {
          "output_type": "stream",
          "text": [
            "Size of each element in the list by bytes 8\n",
            "Complete list size in bytes 8000\n"
          ],
          "name": "stdout"
        }
      ]
    },
    {
      "cell_type": "code",
      "metadata": {
        "colab": {
          "base_uri": "https://localhost:8080/"
        },
        "id": "q1Iqx1oVPn0M",
        "outputId": "82c24309-7fc8-4d6f-cd6c-445f1d29c8a4"
      },
      "source": [
        "#Import time lib and make execution time taking by the system\n",
        "\n",
        "import time\n",
        "\n",
        "a = range(1000)\n",
        "b = range(1000)\n",
        "\n",
        "start = time.time()\n",
        "\n",
        "ab = [(a * b) for a,b in zip(a,b)] #List Comprehension\n",
        "\n",
        "end = time.time()\n",
        "\n",
        "print(\"Total time taken\", end - start)"
      ],
      "execution_count": null,
      "outputs": [
        {
          "output_type": "stream",
          "text": [
            "Total time taken 0.0001704692840576172\n"
          ],
          "name": "stdout"
        }
      ]
    },
    {
      "cell_type": "code",
      "metadata": {
        "colab": {
          "base_uri": "https://localhost:8080/"
        },
        "id": "IasCUZuaQ35B",
        "outputId": "6d717a48-cf72-464f-f7b6-d6e4cab932ed"
      },
      "source": [
        "import numpy\n",
        "\n",
        "arr1 = np.arange(1000)\n",
        "arr2 = np.arange(1000)\n",
        "\n",
        "start = time.time()\n",
        "\n",
        "arr_mul = arr1 * arr2\n",
        "\n",
        "end = time.time()\n",
        "\n",
        "print(\"Total time taken\", end - start)"
      ],
      "execution_count": null,
      "outputs": [
        {
          "output_type": "stream",
          "text": [
            "Total time taken 8.273124694824219e-05\n"
          ],
          "name": "stdout"
        }
      ]
    },
    {
      "cell_type": "code",
      "metadata": {
        "colab": {
          "base_uri": "https://localhost:8080/"
        },
        "id": "vAuijck3RXZQ",
        "outputId": "af80cd82-781a-497d-c147-82c1330ba87c"
      },
      "source": [
        "lst1 = [1,2,3,4]\n",
        "\n",
        "arr = np.array(lst1)\n",
        "\n",
        "print(arr)"
      ],
      "execution_count": null,
      "outputs": [
        {
          "output_type": "stream",
          "text": [
            "[1 2 3 4]\n"
          ],
          "name": "stdout"
        }
      ]
    },
    {
      "cell_type": "code",
      "metadata": {
        "colab": {
          "base_uri": "https://localhost:8080/",
          "height": 162
        },
        "id": "4cCtR9SSSZJa",
        "outputId": "f1268d0d-875a-4344-9cfb-834ef06c3911"
      },
      "source": [
        "print(lst1 + 1)"
      ],
      "execution_count": null,
      "outputs": [
        {
          "output_type": "error",
          "ename": "TypeError",
          "evalue": "ignored",
          "traceback": [
            "\u001b[0;31m---------------------------------------------------------------------------\u001b[0m",
            "\u001b[0;31mTypeError\u001b[0m                                 Traceback (most recent call last)",
            "\u001b[0;32m<ipython-input-18-c98f5e3d7b11>\u001b[0m in \u001b[0;36m<module>\u001b[0;34m()\u001b[0m\n\u001b[0;32m----> 1\u001b[0;31m \u001b[0mprint\u001b[0m\u001b[0;34m(\u001b[0m\u001b[0mlst1\u001b[0m \u001b[0;34m+\u001b[0m \u001b[0;36m1\u001b[0m\u001b[0;34m)\u001b[0m\u001b[0;34m\u001b[0m\u001b[0;34m\u001b[0m\u001b[0m\n\u001b[0m",
            "\u001b[0;31mTypeError\u001b[0m: can only concatenate list (not \"int\") to list"
          ]
        }
      ]
    },
    {
      "cell_type": "code",
      "metadata": {
        "colab": {
          "base_uri": "https://localhost:8080/"
        },
        "id": "lafAs6jFSju9",
        "outputId": "07e5ceb1-cfb4-4221-e378-f5cf67fd10fc"
      },
      "source": [
        "print(arr + 1)"
      ],
      "execution_count": null,
      "outputs": [
        {
          "output_type": "stream",
          "text": [
            "[2 3 4 5]\n"
          ],
          "name": "stdout"
        }
      ]
    },
    {
      "cell_type": "code",
      "metadata": {
        "colab": {
          "base_uri": "https://localhost:8080/"
        },
        "id": "VQosgczdSmtL",
        "outputId": "3d1a1cdb-d47a-4f77-a63e-b34928603367"
      },
      "source": [
        "arr1 = np.array([[1,2,3,4], [5,6,7,8]], ndmin = 2)\n",
        "\n",
        "print(arr1)"
      ],
      "execution_count": null,
      "outputs": [
        {
          "output_type": "stream",
          "text": [
            "[[1 2 3 4]\n",
            " [5 6 7 8]]\n"
          ],
          "name": "stdout"
        }
      ]
    },
    {
      "cell_type": "code",
      "metadata": {
        "colab": {
          "base_uri": "https://localhost:8080/"
        },
        "id": "R9CUQ0LQVQkm",
        "outputId": "ae0b6c8e-18df-4032-9920-ffa30985bb56"
      },
      "source": [
        "arr2 = list(arr1)\n",
        "print(arr2)"
      ],
      "execution_count": null,
      "outputs": [
        {
          "output_type": "stream",
          "text": [
            "[array([1, 2, 3, 4]), array([5, 6, 7, 8])]\n"
          ],
          "name": "stdout"
        }
      ]
    },
    {
      "cell_type": "code",
      "metadata": {
        "colab": {
          "base_uri": "https://localhost:8080/"
        },
        "id": "6Yo2i3XWWKl8",
        "outputId": "5eae7fe5-ade2-46b0-d471-741558ad6d05"
      },
      "source": [
        "print(type(arr1),\n",
        "type(arr2))"
      ],
      "execution_count": null,
      "outputs": [
        {
          "output_type": "stream",
          "text": [
            "<class 'numpy.ndarray'> <class 'list'>\n"
          ],
          "name": "stdout"
        }
      ]
    },
    {
      "cell_type": "code",
      "metadata": {
        "id": "99flu2FXWOaa"
      },
      "source": [
        ""
      ],
      "execution_count": null,
      "outputs": []
    }
  ]
}